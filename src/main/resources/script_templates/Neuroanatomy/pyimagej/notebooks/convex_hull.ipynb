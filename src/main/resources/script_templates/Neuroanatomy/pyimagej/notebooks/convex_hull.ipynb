{
 "cells": [
  {
   "cell_type": "markdown",
   "metadata": {},
   "source": [
    "This notebook demonstrates how to integrate functionality from Simple Neurite Tracer with Python through pyimagej.  \n",
    "The context is the computation, rendering and analysis of the convex hulls enclosing all axonal/dendritic terminal nodes.  \n",
    "It requires that the latest version of SNT is installed in your ImageJ/Fiji environment.  \n",
    "\n",
    "Python dependencies:\n",
    "- pyimagej\n",
    "- numpy\n",
    "- scipy"
   ]
  },
  {
   "cell_type": "code",
   "execution_count": 1,
   "metadata": {},
   "outputs": [],
   "source": [
    "import time\n",
    "import imagej\n",
    "import numpy as np\n",
    "from scipy.spatial import ConvexHull\n",
    "\n",
    "\"\"\"Replace with path to your local ImageJ or Fiji installation.\n",
    "This can be replaced with ij = imagej.init('sc.fiji:fiji')\n",
    "once the scijava branch is merged to master.\"\"\"\n",
    "\n",
    "ij = imagej.init(r'C:\\Users\\cam\\Desktop\\Fiji.app', headless=False)\n",
    "from jnius import autoclass, cast"
   ]
  },
  {
   "cell_type": "code",
   "execution_count": 2,
   "metadata": {},
   "outputs": [],
   "source": [
    "# import relevant Java classes\n",
    "HashSet = autoclass('java.util.HashSet')\n",
    "PointInImage = autoclass('tracing.util.PointInImage')\n",
    "MouseLightLoader = autoclass('tracing.io.MouseLightLoader')\n",
    "Tree = autoclass('tracing.Tree')\n",
    "TreeAnalyzer = autoclass('tracing.analysis.TreeAnalyzer')\n",
    "Color = autoclass('org.scijava.util.Colors')\n",
    "Viewer = autoclass('tracing.viewer.Viewer3D')"
   ]
  },
  {
   "cell_type": "code",
   "execution_count": 3,
   "metadata": {},
   "outputs": [],
   "source": [
    "def obj_hull(obj):\n",
    "    \"\"\"Computes and returns convex hull of \n",
    "    the given tracing.viewer.OBJMesh object\"\"\"\n",
    "    \n",
    "    # get Java Collection of OBJ vertices\n",
    "    java_col = obj.getVertices()\n",
    "    # convert to Java Array\n",
    "    java_array = java_col.toArray()\n",
    "    \n",
    "    # convert to Python list\n",
    "    vert_list = []\n",
    "    for v in java_array:\n",
    "        vert_list.append([v.x, v.y, v.z]) # get coordinate fields of each PointInImage object\n",
    "    \n",
    "    # compute convex hull\n",
    "    hull = ConvexHull(vert_list)\n",
    "    \n",
    "    return hull"
   ]
  },
  {
   "cell_type": "code",
   "execution_count": 4,
   "metadata": {},
   "outputs": [],
   "source": [
    "def convex_hull(tree, reference_hull=None):\n",
    "        \"\"\"Accepts a tracing.Tree object and computes \n",
    "        the convex hull, returning the hull vertices \n",
    "        as a Java array containing tracing.util.PointInImage \n",
    "        objects. Prints spatial measurements by default.\"\"\"\n",
    "        \n",
    "        analyzer = TreeAnalyzer(tree)\n",
    "        # get the end points from the tree as a Java HashSet\n",
    "        tips_java_set = analyzer.getTips()\n",
    "        # convert to Java array to maintain ordering\n",
    "        tips_java_array = tips_java_set.toArray()\n",
    "\n",
    "        # convert to Python list\n",
    "        tips_list = [[t.x, t.y, t.z] for t in tips_java_array] # get coordinate fields of each PointInImage object\n",
    "\n",
    "        assert len(tips_list) == tips_java_set.size() # check that conversion is successful\n",
    "\n",
    "        # Find the convex hull of the end points\n",
    "        hull = ConvexHull(tips_list)\n",
    "        \n",
    "        # print spatial measurements\n",
    "        if reference_hull is not None:\n",
    "            print(\"The hull takes up {}% of the brain\\'s volume\".format(round((hull.volume/reference_hull.volume) * 100, 5)))\n",
    "        \n",
    "        print(\"The volume of the convex hull encapsulating all tip points is {} cubic microns\".format(\n",
    "            round(hull.volume, 5)))\n",
    "        \n",
    "        print(\"The area of the hull is {} square microns\".format(round(hull.area, 5)))\n",
    "        print()\n",
    "        \n",
    "        # find original PointInImage objects to pass to Viewer3D\n",
    "        # less costly than re-constructing a new Java object for each vertex\n",
    "        verts_java = [tips_java_array[i] for i in hull.vertices]\n",
    "        verts_java = ij.py.to_java(verts_java)\n",
    "        \n",
    "        return verts_java"
   ]
  },
  {
   "cell_type": "code",
   "execution_count": 5,
   "metadata": {},
   "outputs": [],
   "source": [
    "def run():\n",
    "    \n",
    "    # fetch swc from MouseLight database by ID\n",
    "    loader = MouseLightLoader('AA0100')\n",
    "    if not loader.isDatabaseAvailable():\n",
    "        print(\"Could not connect to ML database\", \"Error\")\n",
    "        return\n",
    "    if not loader.idExists():\n",
    "        print(\"Somewhow the specified id was not found\", \"Error\")\n",
    "        return\n",
    "    \n",
    "    # get the axon and dendrite compartments of the SWC\n",
    "    # soma is ignored since it does not contribute to the convex hull\n",
    "    tree_axon = loader.getTree('axon', None)\n",
    "    tree_dendrites = loader.getTree('dendrite', None)\n",
    "    \n",
    "    # instantiate the Viewer3D object\n",
    "    viewer = Viewer()\n",
    "    # load the Allen mouse brain reference OBJ\n",
    "    # this automatically adds it to viewer scene\n",
    "    ref_obj = viewer.loadMouseRefBrain()\n",
    "    # obtain its convex hull\n",
    "    ref_hull = obj_hull(ref_obj)\n",
    "    \n",
    "    # calculate convex hull and return its vertices\n",
    "    # the vertices are needed to plot the surface\n",
    "    verts_axon = convex_hull(tree_axon, ref_hull)\n",
    "    verts_dendrites = convex_hull(tree_dendrites, ref_hull)\n",
    "\n",
    "    # add both trees and surfaces to the scene \n",
    "    # show the result\n",
    "    viewer.add(tree_axon)\n",
    "    viewer.add(tree_dendrites)\n",
    "    viewer.addSurface(verts_axon, Color.RED, 50)\n",
    "    viewer.addSurface(verts_dendrites, Color.CYAN, 50)\n",
    "    viewer.show()"
   ]
  },
  {
   "cell_type": "code",
   "execution_count": 6,
   "metadata": {},
   "outputs": [
    {
     "name": "stdout",
     "output_type": "stream",
     "text": [
      "The hull takes up 35.35527% of the brain's volume\n",
      "The volume of the convex hull encapsulating all tip points is 208791575907.3617 cubic microns\n",
      "The area of the hull is 191199110.73832 square microns\n",
      "\n",
      "The hull takes up 0.01051% of the brain's volume\n",
      "The volume of the convex hull encapsulating all tip points is 62095649.0325 cubic microns\n",
      "The area of the hull is 942390.38006 square microns\n",
      "\n"
     ]
    }
   ],
   "source": [
    "run()"
   ]
  }
 ],
 "metadata": {
  "kernelspec": {
   "display_name": "pyimagej jupyter env",
   "language": "python",
   "name": "pyimagej_notebook_env"
  },
  "language_info": {
   "codemirror_mode": {
    "name": "ipython",
    "version": 3
   },
   "file_extension": ".py",
   "mimetype": "text/x-python",
   "name": "python",
   "nbconvert_exporter": "python",
   "pygments_lexer": "ipython3",
   "version": "3.7.1"
  }
 },
 "nbformat": 4,
 "nbformat_minor": 2
}
