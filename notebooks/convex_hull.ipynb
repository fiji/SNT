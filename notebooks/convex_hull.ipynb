{
 "cells": [
  {
   "cell_type": "markdown",
   "metadata": {},
   "source": [
    "This notebook demonstrates how to integrate functionality from Simple Neurite Tracer with Python through pyimagej.  \n",
    "The context is the computation and rendering of the convex hull enclosing all axonal/dendritic terminal nodes.  \n",
    "It requires that the latest version of SNT is installed in your ImageJ/Fiji environment.  \n",
    "\n",
    "Python dependencies:\n",
    "- pyimagej\n",
    "- numpy\n",
    "- scipy"
   ]
  },
  {
   "cell_type": "code",
   "execution_count": 1,
   "metadata": {},
   "outputs": [
    {
     "name": "stdout",
     "output_type": "stream",
     "text": [
      "Added 389 JARs to the Java classpath.\n"
     ]
    }
   ],
   "source": [
    "import sys\n",
    "# replace with path to your pyimagej directory\n",
    "sys.path.insert(0, r'C:\\Users\\cam\\Desktop\\pyimagej-master\\pyimagej')\n",
    "import imagej\n",
    "import numpy as np\n",
    "from scipy.spatial import ConvexHull\n",
    "\n",
    "# replace with path to your local ImageJ or Fiji installation\n",
    "# this can be replaced with ij = imagej.init('sc.fiji:fiji')\n",
    "# once the scijava branch is merged to master\n",
    "ij = imagej.init(r'C:\\Users\\cam\\Desktop\\Fiji.app', headless=False)\n",
    "from jnius import autoclass, cast\n"
   ]
  },
  {
   "cell_type": "code",
   "execution_count": 2,
   "metadata": {},
   "outputs": [],
   "source": [
    "# import relevant Java classes\n",
    "HashSet = autoclass('java.util.HashSet')\n",
    "PointInImage = autoclass('tracing.util.PointInImage')\n",
    "MouseLightLoader = autoclass('tracing.io.MouseLightLoader')\n",
    "Tree = autoclass('tracing.Tree')\n",
    "TreeAnalyzer = autoclass('tracing.analysis.TreeAnalyzer')\n",
    "Color = autoclass('org.scijava.util.Colors')\n",
    "Viewer = autoclass('tracing.viewer.Viewer3D')\n"
   ]
  },
  {
   "cell_type": "code",
   "execution_count": 3,
   "metadata": {},
   "outputs": [],
   "source": [
    "def convex_hull(tree):\n",
    "        \"\"\"computes the convex hull of the input tree\"\"\"\n",
    "        \n",
    "        analyzer = TreeAnalyzer(tree)\n",
    "        # extract the end points from the tree as a java HashSet\n",
    "        tips_java_set = analyzer.getTips()\n",
    "        # convert to array to maintain ordering\n",
    "        tips_java_array = tips_java_set.toArray()\n",
    "\n",
    "        # convert to python list\n",
    "        tips_list = [[t.x, t.y, t.z] for t in tips_java_array]\n",
    "\n",
    "        assert len(tips_list) == tips_java_set.size()\n",
    "\n",
    "        # Find the convex hull of the end points\n",
    "        hull = ConvexHull(tips_list)\n",
    "        \n",
    "        print(\"The volume of the convex hull encapsulating all tip points is {} cubic microns\".format(\n",
    "            round(hull.volume, 2)))\n",
    "        \n",
    "        print(\"The area of the hull is {} square microns\".format(round(hull.area, 2)))\n",
    "        print()\n",
    "        \n",
    "        # find original PointInImage objects to pass to Viewer3D\n",
    "        # less costly than re-constructing a new Java object for each vertex\n",
    "        verts_java = [tips_java_array[i] for i in hull.vertices]\n",
    "        verts_java = ij.py.to_java(verts_java)\n",
    "        \n",
    "        return verts_java\n"
   ]
  },
  {
   "cell_type": "code",
   "execution_count": 4,
   "metadata": {},
   "outputs": [],
   "source": [
    "def run():\n",
    "    \n",
    "    # fetch swc from MouseLight database by ID\n",
    "    loader = MouseLightLoader('AA0100')\n",
    "    if not loader.isDatabaseAvailable():\n",
    "        print(\"Could not connect to ML database\", \"Error\")\n",
    "        return\n",
    "    if not loader.idExists():\n",
    "        print(\"Somewhow the specified id was not found\", \"Error\")\n",
    "        return\n",
    "\n",
    "    tree_axon = loader.getTree('axon', None)\n",
    "    tree_dendrites = loader.getTree('dendrite', None)\n",
    "    \n",
    "        \n",
    "    verts_axon = convex_hull(tree_axon)\n",
    "    verts_dendrites = convex_hull(tree_dendrites)\n",
    "\n",
    "    # Visualize the result using SNT Viewer3D\n",
    "    viewer = Viewer()\n",
    "    viewer.add(tree_axon)\n",
    "    viewer.add(tree_dendrites)\n",
    "    viewer.addSurface(verts_axon, Color.RED, 50)\n",
    "    viewer.addSurface(verts_dendrites, Color.CYAN, 50)\n",
    "    viewer.show()\n",
    "    "
   ]
  },
  {
   "cell_type": "code",
   "execution_count": 5,
   "metadata": {},
   "outputs": [
    {
     "name": "stdout",
     "output_type": "stream",
     "text": [
      "The volume of the convex hull encapsulating all tip points is 208791575907.36 cubic microns\n",
      "The area of the hull is 191199110.74 square microns\n",
      "\n",
      "The volume of the convex hull encapsulating all tip points is 62095649.03 cubic microns\n",
      "The area of the hull is 942390.38 square microns\n",
      "\n"
     ]
    }
   ],
   "source": [
    "run()\n"
   ]
  }
 ],
 "metadata": {
  "kernelspec": {
   "display_name": "pyimagej jupyter env",
   "language": "python",
   "name": "pyimagej_notebook_env"
  },
  "language_info": {
   "codemirror_mode": {
    "name": "ipython",
    "version": 3
   },
   "file_extension": ".py",
   "mimetype": "text/x-python",
   "name": "python",
   "nbconvert_exporter": "python",
   "pygments_lexer": "ipython3",
   "version": "3.7.1"
  }
 },
 "nbformat": 4,
 "nbformat_minor": 2
}
