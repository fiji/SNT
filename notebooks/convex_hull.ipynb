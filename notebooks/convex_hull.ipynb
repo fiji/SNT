{
 "cells": [
  {
   "cell_type": "markdown",
   "metadata": {},
   "source": [
    "This notebook demonstrates integration of functionality from SNT with Python through pyimagej.  \n",
    "The context is the computation and rendering of the convex hull enclosing all axonal/dendritic terminal nodes.    "
   ]
  },
  {
   "cell_type": "code",
   "execution_count": null,
   "metadata": {},
   "outputs": [],
   "source": [
    "import sys\n",
    "!conda install --yes --prefix {sys.prefix} -c conda-forge pyimagej openjdk=8 scipy"
   ]
  },
  {
   "cell_type": "code",
   "execution_count": null,
   "metadata": {},
   "outputs": [],
   "source": [
    "import imagej\n",
    "import numpy as np\n",
    "from scipy.spatial import ConvexHull"
   ]
  },
  {
   "cell_type": "code",
   "execution_count": null,
   "metadata": {},
   "outputs": [],
   "source": [
    "# Initialize Fiji with GUI support.\n",
    "ij = imagej.init('sc.fiji:fiji', headless=False)\n",
    "from jnius import autoclass, cast"
   ]
  },
  {
   "cell_type": "code",
   "execution_count": null,
   "metadata": {},
   "outputs": [],
   "source": [
    "# Import relevant SNT (Java) classes.\n",
    "HashSet = autoclass('java.util.HashSet')\n",
    "PointInImage = autoclass('tracing.util.PointInImage')\n",
    "MouseLightLoader = autoclass('tracing.io.MouseLightLoader')\n",
    "Tree = autoclass('tracing.Tree')\n",
    "TreeAnalyzer = autoclass('tracing.analysis.TreeAnalyzer')\n",
    "Color = autoclass('org.scijava.util.Colors')\n",
    "Viewer = autoclass('tracing.viewer.Viewer3D')"
   ]
  },
  {
   "cell_type": "code",
   "execution_count": null,
   "metadata": {},
   "outputs": [],
   "source": [
    "def convex_hull(tree):\n",
    "        \"\"\"computes the convex hull of the input tree\"\"\"\n",
    "        \n",
    "        analyzer = TreeAnalyzer(tree)\n",
    "        # Extract the end points from the tree as a java HashSet.\n",
    "        tips_java_set = analyzer.getTips()\n",
    "        # Convert to array to maintain ordering.\n",
    "        tips_java_array = tips_java_set.toArray()\n",
    "\n",
    "        # Convert to python list.\n",
    "        tips_list = [[t.x, t.y, t.z] for t in tips_java_array]\n",
    "\n",
    "        assert len(tips_list) == tips_java_set.size()\n",
    "\n",
    "        # Find the convex hull of the end points.\n",
    "        hull = ConvexHull(tips_list)\n",
    "        \n",
    "        print(\"The volume of the convex hull encapsulating all tip points is {} cubic microns\".format(\n",
    "            round(hull.volume, 2)))\n",
    "        \n",
    "        print(\"The area of the hull is {} square microns\".format(round(hull.area, 2)))\n",
    "        print()\n",
    "        \n",
    "        # Find original PointInImage objects to pass to Viewer3D.\n",
    "        # This is less costly than re-constructing a new Java object for each vertex.\n",
    "        verts_java = [tips_java_array[i] for i in hull.vertices]\n",
    "        verts_java = ij.py.to_java(verts_java)\n",
    "        \n",
    "        return verts_java"
   ]
  },
  {
   "cell_type": "code",
   "execution_count": null,
   "metadata": {},
   "outputs": [],
   "source": [
    "def run():\n",
    "    \n",
    "    # Fetch swc from MouseLight database by ID.\n",
    "    loader = MouseLightLoader('AA0100')\n",
    "    if not loader.isDatabaseAvailable():\n",
    "        print(\"Could not connect to ML database\", \"Error\")\n",
    "        return\n",
    "    if not loader.idExists():\n",
    "        print(\"Somewhow the specified id was not found\", \"Error\")\n",
    "        return\n",
    "\n",
    "    tree_axon = loader.getTree('axon', None)\n",
    "    tree_dendrites = loader.getTree('dendrite', None)\n",
    "    \n",
    "        \n",
    "    verts_axon = convex_hull(tree_axon)\n",
    "    verts_dendrites = convex_hull(tree_dendrites)\n",
    "\n",
    "    # Visualize the result using SNT Viewer3D.\n",
    "    viewer = Viewer()\n",
    "    viewer.add(tree_axon)\n",
    "    viewer.add(tree_dendrites)\n",
    "    viewer.addSurface(verts_axon, Color.RED, 50)\n",
    "    viewer.addSurface(verts_dendrites, Color.CYAN, 50)\n",
    "    viewer.show()"
   ]
  },
  {
   "cell_type": "code",
   "execution_count": null,
   "metadata": {},
   "outputs": [],
   "source": [
    "run()"
   ]
  }
 ],
 "metadata": {
  "kernelspec": {
   "display_name": "pyimagej jupyter env",
   "language": "python",
   "name": "pyimagej_notebook_env"
  },
  "language_info": {
   "codemirror_mode": {
    "name": "ipython",
    "version": 3
   },
   "file_extension": ".py",
   "mimetype": "text/x-python",
   "name": "python",
   "nbconvert_exporter": "python",
   "pygments_lexer": "ipython3",
   "version": "3.7.1"
  }
 },
 "nbformat": 4,
 "nbformat_minor": 2
}
